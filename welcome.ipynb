{
 "cells": [
  {
   "cell_type": "markdown",
   "metadata": {},
   "source": [
    "# Welcome to Jupyter Notebooks\n",
    "This notebook contains some basic information that will help you create and maintain Jupyter Notebooks from here to eternity."
   ]
  },
  {
   "cell_type": "markdown",
   "metadata": {},
   "source": [
    "## Cells\n",
    "Notebooks are a collection of individual cells that can be edited and executed.  There are two types of cells:\n",
    "- **Markdown** - text written in standard Markdown syntax.\n",
    "- **Code** - programming code written in whichever language the Notebook has been set up to support.  This is the default cell type."
   ]
  },
  {
   "cell_type": "markdown",
   "metadata": {},
   "source": [
    "### Activating cells\n",
    "Any cell that has previously been interpreted may be activated by double-clicking on it."
   ]
  },
  {
   "cell_type": "markdown",
   "metadata": {},
   "source": [
    "### Switching between cell types\n",
    "Cells are by default Code cells.  Use shortcuts to switch the type of a cell:\n",
    "- `Esc`-`m` - switch the active cell to Markdown type\n",
    "- `Esc`-`y` - switch the active cell to Code type\n"
   ]
  },
  {
   "cell_type": "markdown",
   "metadata": {},
   "source": [
    "### Inserting new cells\n",
    "There are two useful shortcuts for creating new cells:\n",
    "- `Esc`-`a` - insert a new cell above the currently active cell.\n",
    "- `Esc`-`b` - insert a new cell below the currently active cell."
   ]
  },
  {
   "cell_type": "markdown",
   "metadata": {},
   "source": [
    "### Deleting cells\n",
    "To delete the currently-active cell, use the `Esc`-`x` shortcut."
   ]
  },
  {
   "cell_type": "markdown",
   "metadata": {},
   "source": [
    "### Executing cells\n",
    "To interpret and execute the contents of a cell, press either `Shift`-`Enter` to execute and move to the next cell below, or `Control`-`Enter` to execute but keep the current cell selected.\n",
    "- **Markdown cells** will have their contents rendered as HTML web content.\n",
    "- **Code cells** will have their contents executed and any output displayed."
   ]
  },
  {
   "cell_type": "markdown",
   "metadata": {},
   "source": [
    "## Code\n",
    "A few notes about writing code in Jupyter Notebooks."
   ]
  },
  {
   "cell_type": "markdown",
   "metadata": {},
   "source": [
    "### Output expressions as the last line of code in a cell\n",
    "If the last statement in a cell is an expression of some kind, the value of that expression will be output in the notebookwithout the need for `print()`.  Some examples:"
   ]
  },
  {
   "cell_type": "code",
   "execution_count": 11,
   "metadata": {},
   "outputs": [
    {
     "data": {
      "text/plain": [
       "'This will be output without print!'"
      ]
     },
     "execution_count": 11,
     "metadata": {},
     "output_type": "execute_result"
    }
   ],
   "source": [
    "def return_something():\n",
    "    \"\"\"\n",
    "    useless function definition that returns a value\n",
    "    \"\"\"\n",
    "    return 'This will be output without print!'\n",
    "\n",
    "# calling it as the last line in the cell will output the return value\n",
    "return_something()"
   ]
  },
  {
   "cell_type": "code",
   "execution_count": 12,
   "metadata": {},
   "outputs": [
    {
     "data": {
      "text/plain": [
       "10"
      ]
     },
     "execution_count": 12,
     "metadata": {},
     "output_type": "execute_result"
    }
   ],
   "source": [
    "# a simple variable assignment\n",
    "x = 10\n",
    "\n",
    "# referencing it as the last line in the cell will output the value\n",
    "x"
   ]
  },
  {
   "cell_type": "code",
   "execution_count": 13,
   "metadata": {},
   "outputs": [
    {
     "data": {
      "text/plain": [
       "False"
      ]
     },
     "execution_count": 13,
     "metadata": {},
     "output_type": "execute_result"
    }
   ],
   "source": [
    "# a boolean expression\n",
    "(True and False) and (not True)"
   ]
  },
  {
   "cell_type": "code",
   "execution_count": 14,
   "metadata": {},
   "outputs": [
    {
     "data": {
      "text/plain": [
       "4"
      ]
     },
     "execution_count": 14,
     "metadata": {},
     "output_type": "execute_result"
    }
   ],
   "source": [
    "# a literal\n",
    "4"
   ]
  },
  {
   "cell_type": "markdown",
   "metadata": {},
   "source": [
    "### Output values in the middle of a cell using print()\n",
    "Should you need to output values in the middle of a cell, you may use `print()`."
   ]
  },
  {
   "cell_type": "code",
   "execution_count": 15,
   "metadata": {},
   "outputs": [
    {
     "name": "stdout",
     "output_type": "stream",
     "text": [
      "0\n",
      "1\n",
      "2\n",
      "3\n",
      "4\n",
      "Done\n"
     ]
    }
   ],
   "source": [
    "for i in range(5):\n",
    "    print(i)\n",
    "print(\"Done\")"
   ]
  },
  {
   "cell_type": "markdown",
   "metadata": {},
   "source": [
    "## Outputting more complex data\n",
    "While `print()` works well for simple primitive values, it is really better used on the command line, not in a notebook.  `print()` is not designed for an interactive programming environment and does not visually display well more complex data structures types like large lists, dictionaries, or other media types such as images or video.  To do so in a notebook, import and use functions in the `IPython.display` module."
   ]
  },
  {
   "cell_type": "markdown",
   "metadata": {},
   "source": [
    "#### Complex structures\n",
    "The `Ipython.display` module can display complex data structures in a more interactive and readable format than `print()`."
   ]
  },
  {
   "cell_type": "code",
   "execution_count": 16,
   "metadata": {},
   "outputs": [
    {
     "data": {
      "text/plain": [
       "[{'bar', 'foo'},\n",
       " {'baz': 'bum'},\n",
       " {'biddle': 'diddle'},\n",
       " {'dum': 'fum'},\n",
       " {'gram': 'pram'}]"
      ]
     },
     "metadata": {},
     "output_type": "display_data"
    }
   ],
   "source": [
    "from IPython.display import display, Image, Markdown\n",
    "\n",
    "my_list = [ {\"foo\", \"bar\"}, {\"baz\": \"bum\"} , {\"biddle\": \"diddle\"} , {\"dum\": \"fum\"} , {\"gram\": \"pram\"} ]\n",
    "display( my_list )"
   ]
  },
  {
   "cell_type": "markdown",
   "metadata": {},
   "source": [
    "#### Markdown code\n",
    "The `IPython.display` module can also render Markdown code:"
   ]
  },
  {
   "cell_type": "code",
   "execution_count": 17,
   "metadata": {},
   "outputs": [
    {
     "data": {
      "text/markdown": [
       "\n",
       "A simple Markdown list:\n",
       "- first item\n",
       "- second item, with some **bold text**\n",
       "- third item, with a [link](https://knowledge.kitchen)\n"
      ],
      "text/plain": [
       "<IPython.core.display.Markdown object>"
      ]
     },
     "metadata": {},
     "output_type": "display_data"
    }
   ],
   "source": [
    "# some Markdown code, stored in a variable\n",
    "my_markdown = '''\n",
    "A simple Markdown list:\n",
    "- first item\n",
    "- second item, with some **bold text**\n",
    "- third item, with a [link](https://knowledge.kitchen)\n",
    "'''\n",
    "\n",
    "# render the markdown\n",
    "display(Markdown(my_markdown))\n"
   ]
  },
  {
   "cell_type": "markdown",
   "metadata": {},
   "source": [
    "#### Images and other media\n",
    "An example of how to display an image using the `IPython.display` module:"
   ]
  },
  {
   "cell_type": "code",
   "execution_count": 19,
   "metadata": {},
   "outputs": [
    {
     "data": {
      "text/html": [
       "<img src=\"https://picsum.photos/200\"/>"
      ],
      "text/plain": [
       "<IPython.core.display.Image object>"
      ]
     },
     "execution_count": 19,
     "metadata": {},
     "output_type": "execute_result"
    }
   ],
   "source": [
    "Image(url='https://picsum.photos/200')"
   ]
  },
  {
   "cell_type": "markdown",
   "metadata": {},
   "source": [
    "### Code documentation\n",
    "\n",
    "To view the documentation of any function, place the cursor between the opening and closing parentheses of the function in your code, and press the shortcut, `Shift`-`Tab`.\n"
   ]
  },
  {
   "cell_type": "code",
   "execution_count": null,
   "metadata": {},
   "outputs": [],
   "source": []
  }
 ],
 "metadata": {
  "kernelspec": {
   "display_name": "Python 3",
   "language": "python",
   "name": "python3"
  },
  "language_info": {
   "codemirror_mode": {
    "name": "ipython",
    "version": 3
   },
   "file_extension": ".py",
   "mimetype": "text/x-python",
   "name": "python",
   "nbconvert_exporter": "python",
   "pygments_lexer": "ipython3",
   "version": "3.8.5"
  }
 },
 "nbformat": 4,
 "nbformat_minor": 4
}
