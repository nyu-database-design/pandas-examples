{
 "cells": [
  {
   "cell_type": "markdown",
   "metadata": {},
   "source": [
    "# Series in pandas\n",
    "A set of examples that exhibit some of the core features of the [Series](https://pandas.pydata.org/pandas-docs/stable/reference/api/pandas.Series.html) data type in the `pandas` module."
   ]
  },
  {
   "cell_type": "markdown",
   "metadata": {},
   "source": [
    "## import"
   ]
  },
  {
   "cell_type": "code",
   "execution_count": 1,
   "metadata": {},
   "outputs": [],
   "source": [
    "import numpy as np\n",
    "import pandas as pd"
   ]
  },
  {
   "cell_type": "markdown",
   "metadata": {},
   "source": [
    "## Create a Series"
   ]
  },
  {
   "cell_type": "code",
   "execution_count": 2,
   "metadata": {},
   "outputs": [
    {
     "data": {
      "text/plain": [
       "0    22\n",
       "1    44\n",
       "2    66\n",
       "3    88\n",
       "dtype: int64"
      ]
     },
     "execution_count": 2,
     "metadata": {},
     "output_type": "execute_result"
    }
   ],
   "source": [
    "# simple series with automatic numeric indices\n",
    "x = pd.Series([22, 44, 66, 88])\n",
    "x"
   ]
  },
  {
   "cell_type": "code",
   "execution_count": 3,
   "metadata": {},
   "outputs": [
    {
     "data": {
      "text/plain": [
       "66"
      ]
     },
     "execution_count": 3,
     "metadata": {},
     "output_type": "execute_result"
    }
   ],
   "source": [
    "# get value with numeric index\n",
    "x[2]"
   ]
  },
  {
   "cell_type": "code",
   "execution_count": 51,
   "metadata": {},
   "outputs": [
    {
     "data": {
      "text/plain": [
       "a    22\n",
       "b    44\n",
       "c    66\n",
       "d    88\n",
       "dtype: int64"
      ]
     },
     "execution_count": 51,
     "metadata": {},
     "output_type": "execute_result"
    }
   ],
   "source": [
    "# with a custom indices\n",
    "y = pd.Series([22, 44, 66, 88], index=['a', 'b', 'c', 'd'])\n",
    "y"
   ]
  },
  {
   "cell_type": "code",
   "execution_count": 54,
   "metadata": {},
   "outputs": [
    {
     "data": {
      "text/plain": [
       "66"
      ]
     },
     "execution_count": 54,
     "metadata": {},
     "output_type": "execute_result"
    }
   ],
   "source": [
    "# get value with custom index\n",
    "y['c']"
   ]
  },
  {
   "cell_type": "code",
   "execution_count": 55,
   "metadata": {},
   "outputs": [
    {
     "data": {
      "text/plain": [
       "a    22\n",
       "b    44\n",
       "c    66\n",
       "d    88\n",
       "dtype: int64"
      ]
     },
     "execution_count": 55,
     "metadata": {},
     "output_type": "execute_result"
    }
   ],
   "source": [
    "# from a Python dictionary\n",
    "z = pd.Series({'a': 22, 'b': 44, 'c': 66, 'd': 88})\n",
    "z"
   ]
  },
  {
   "cell_type": "code",
   "execution_count": 7,
   "metadata": {},
   "outputs": [
    {
     "data": {
      "text/plain": [
       "0    5\n",
       "1    5\n",
       "2    5\n",
       "3    5\n",
       "4    5\n",
       "5    5\n",
       "dtype: int64"
      ]
     },
     "execution_count": 7,
     "metadata": {},
     "output_type": "execute_result"
    }
   ],
   "source": [
    "# from a scalar\n",
    "a = pd.Series(5, index=[0, 1, 2, 3, 4, 5])\n",
    "a"
   ]
  },
  {
   "cell_type": "markdown",
   "metadata": {},
   "source": [
    "## Data types\n",
    "Unlike `numpy` ndarrays, a single `pandas` Series can contain a variety of data types."
   ]
  },
  {
   "cell_type": "code",
   "execution_count": 8,
   "metadata": {},
   "outputs": [
    {
     "data": {
      "text/plain": [
       "0        hello\n",
       "1           44\n",
       "2         True\n",
       "3         3.14\n",
       "4    [1, 2, 3]\n",
       "dtype: object"
      ]
     },
     "execution_count": 8,
     "metadata": {},
     "output_type": "execute_result"
    }
   ],
   "source": [
    "s = pd.Series( ['hello', 44, True, 3.14, [1, 2, 3] ] )\n",
    "s"
   ]
  },
  {
   "cell_type": "markdown",
   "metadata": {},
   "source": [
    "Convert data types with `astype()`."
   ]
  },
  {
   "cell_type": "code",
   "execution_count": 9,
   "metadata": {},
   "outputs": [
    {
     "data": {
      "text/plain": [
       "0        hello\n",
       "1           44\n",
       "2         True\n",
       "3         3.14\n",
       "4    [1, 2, 3]\n",
       "dtype: object"
      ]
     },
     "execution_count": 9,
     "metadata": {},
     "output_type": "execute_result"
    }
   ],
   "source": [
    "# convert to string\n",
    "s = s.astype(str)\n",
    "s"
   ]
  },
  {
   "cell_type": "markdown",
   "metadata": {},
   "source": [
    "## Lambda expressions"
   ]
  },
  {
   "cell_type": "code",
   "execution_count": 56,
   "metadata": {},
   "outputs": [
    {
     "data": {
      "text/plain": [
       "0        hello hello\n",
       "1           hello 44\n",
       "2         hello True\n",
       "3         hello 3.14\n",
       "4    hello [1, 2, 3]\n",
       "dtype: object"
      ]
     },
     "execution_count": 56,
     "metadata": {},
     "output_type": "execute_result"
    }
   ],
   "source": [
    "# run a function to transform each value in the series\n",
    "s.apply(lambda x: 'hello ' + x)"
   ]
  },
  {
   "cell_type": "code",
   "execution_count": 57,
   "metadata": {},
   "outputs": [
    {
     "data": {
      "text/plain": [
       "0        hello\n",
       "1           44\n",
       "2         True\n",
       "3         3.14\n",
       "4    [1, 2, 3]\n",
       "dtype: object"
      ]
     },
     "execution_count": 57,
     "metadata": {},
     "output_type": "execute_result"
    }
   ],
   "source": [
    "s"
   ]
  },
  {
   "cell_type": "markdown",
   "metadata": {},
   "source": [
    "## Naming Series\n",
    "Series can be given a custom name."
   ]
  },
  {
   "cell_type": "code",
   "execution_count": 11,
   "metadata": {},
   "outputs": [
    {
     "data": {
      "text/plain": [
       "0    22\n",
       "1    44\n",
       "2    66\n",
       "3    88\n",
       "Name: non-anonymous Series, dtype: int64"
      ]
     },
     "execution_count": 11,
     "metadata": {},
     "output_type": "execute_result"
    }
   ],
   "source": [
    "# create a Series with a custom name\n",
    "x = pd.Series([22, 44, 66, 88], name='non-anonymous Series')\n",
    "x"
   ]
  },
  {
   "cell_type": "code",
   "execution_count": 12,
   "metadata": {},
   "outputs": [
    {
     "data": {
      "text/plain": [
       "'non-anonymous Series'"
      ]
     },
     "execution_count": 12,
     "metadata": {},
     "output_type": "execute_result"
    }
   ],
   "source": [
    "# get the name\n",
    "x.name"
   ]
  },
  {
   "cell_type": "markdown",
   "metadata": {},
   "source": [
    "## Indexing\n",
    "Accessing values from a `pandas` Series."
   ]
  },
  {
   "cell_type": "code",
   "execution_count": 58,
   "metadata": {},
   "outputs": [],
   "source": [
    "# an example Series, with String labels\n",
    "x = pd.Series({'foo': 22, 'bar': 44, 'baz': 66, 'bum': 88})"
   ]
  },
  {
   "cell_type": "code",
   "execution_count": 59,
   "metadata": {},
   "outputs": [
    {
     "data": {
      "text/plain": [
       "foo    22\n",
       "bar    44\n",
       "baz    66\n",
       "bum    88\n",
       "dtype: int64"
      ]
     },
     "execution_count": 59,
     "metadata": {},
     "output_type": "execute_result"
    }
   ],
   "source": [
    "x"
   ]
  },
  {
   "cell_type": "code",
   "execution_count": 14,
   "metadata": {},
   "outputs": [
    {
     "data": {
      "text/plain": [
       "44"
      ]
     },
     "execution_count": 14,
     "metadata": {},
     "output_type": "execute_result"
    }
   ],
   "source": [
    "# access by label\n",
    "x['bar']"
   ]
  },
  {
   "cell_type": "code",
   "execution_count": 15,
   "metadata": {},
   "outputs": [
    {
     "data": {
      "text/plain": [
       "44"
      ]
     },
     "execution_count": 15,
     "metadata": {},
     "output_type": "execute_result"
    }
   ],
   "source": [
    "# access by position (even with a custom-labeled Series)\n",
    "x[1]"
   ]
  },
  {
   "cell_type": "code",
   "execution_count": 16,
   "metadata": {},
   "outputs": [
    {
     "data": {
      "text/plain": [
       "44"
      ]
     },
     "execution_count": 16,
     "metadata": {},
     "output_type": "execute_result"
    }
   ],
   "source": [
    "# access by integer index\n",
    "x.iloc[1]"
   ]
  },
  {
   "cell_type": "code",
   "execution_count": 17,
   "metadata": {},
   "outputs": [
    {
     "data": {
      "text/plain": [
       "44"
      ]
     },
     "execution_count": 17,
     "metadata": {},
     "output_type": "execute_result"
    }
   ],
   "source": [
    "# access by label index\n",
    "x.loc['bar']"
   ]
  },
  {
   "cell_type": "code",
   "execution_count": 60,
   "metadata": {},
   "outputs": [
    {
     "data": {
      "text/plain": [
       "foo    22\n",
       "bar    44\n",
       "baz    66\n",
       "dtype: int64"
      ]
     },
     "execution_count": 60,
     "metadata": {},
     "output_type": "execute_result"
    }
   ],
   "source": [
    "# accessing a subset by positions\n",
    "x[ [0, 1, 2] ]"
   ]
  },
  {
   "cell_type": "code",
   "execution_count": 19,
   "metadata": {},
   "outputs": [
    {
     "data": {
      "text/plain": [
       "foo    22\n",
       "bar    44\n",
       "baz    66\n",
       "dtype: int64"
      ]
     },
     "execution_count": 19,
     "metadata": {},
     "output_type": "execute_result"
    }
   ],
   "source": [
    "# accessing a subset by integer indices\n",
    "x.iloc[ [0, 1, 2] ]"
   ]
  },
  {
   "cell_type": "code",
   "execution_count": 20,
   "metadata": {},
   "outputs": [
    {
     "data": {
      "text/plain": [
       "foo    22\n",
       "bar    44\n",
       "baz    66\n",
       "dtype: int64"
      ]
     },
     "execution_count": 20,
     "metadata": {},
     "output_type": "execute_result"
    }
   ],
   "source": [
    "# accessing a subset by label indices\n",
    "x.loc[ ['foo', 'bar', 'baz'] ]"
   ]
  },
  {
   "cell_type": "markdown",
   "metadata": {},
   "source": [
    "## Slicing\n",
    "Unlike `numpy` ndarrays, slicing a `pandas` Series will also slice the index."
   ]
  },
  {
   "cell_type": "code",
   "execution_count": 21,
   "metadata": {},
   "outputs": [
    {
     "data": {
      "text/plain": [
       "2    66\n",
       "3    88\n",
       "dtype: int64"
      ]
     },
     "execution_count": 21,
     "metadata": {},
     "output_type": "execute_result"
    }
   ],
   "source": [
    "# slice an automatically-indexed Series\n",
    "x = pd.Series([22, 44, 66, 88])\n",
    "x[2 : ]"
   ]
  },
  {
   "cell_type": "code",
   "execution_count": 22,
   "metadata": {},
   "outputs": [
    {
     "data": {
      "text/plain": [
       "2    66\n",
       "3    88\n",
       "dtype: int64"
      ]
     },
     "execution_count": 22,
     "metadata": {},
     "output_type": "execute_result"
    }
   ],
   "source": [
    "# the same thing, using iloc\n",
    "x.iloc[2 : ]"
   ]
  },
  {
   "cell_type": "code",
   "execution_count": 23,
   "metadata": {},
   "outputs": [
    {
     "data": {
      "text/plain": [
       "c    66\n",
       "d    88\n",
       "dtype: int64"
      ]
     },
     "execution_count": 23,
     "metadata": {},
     "output_type": "execute_result"
    }
   ],
   "source": [
    "# slice a custom-indexed Series\n",
    "y = pd.Series([22, 44, 66, 88], index=['a', 'b', 'c', 'd'])\n",
    "y[2 : ]"
   ]
  },
  {
   "cell_type": "markdown",
   "metadata": {},
   "source": [
    "Slice syntax within the brackets, `[` and `]`, generally works the same way as regular Python list slices and `numpy` slices."
   ]
  },
  {
   "cell_type": "markdown",
   "metadata": {},
   "source": [
    "## Sorting"
   ]
  },
  {
   "cell_type": "code",
   "execution_count": 24,
   "metadata": {},
   "outputs": [
    {
     "data": {
      "text/plain": [
       "a    22\n",
       "b    44\n",
       "c    66\n",
       "d    88\n",
       "dtype: int64"
      ]
     },
     "execution_count": 24,
     "metadata": {},
     "output_type": "execute_result"
    }
   ],
   "source": [
    "# unsorted\n",
    "y"
   ]
  },
  {
   "cell_type": "code",
   "execution_count": 25,
   "metadata": {},
   "outputs": [
    {
     "data": {
      "text/plain": [
       "d    88\n",
       "c    66\n",
       "b    44\n",
       "a    22\n",
       "dtype: int64"
      ]
     },
     "execution_count": 25,
     "metadata": {},
     "output_type": "execute_result"
    }
   ],
   "source": [
    "# sorted by index\n",
    "y.sort_index(ascending=False)"
   ]
  },
  {
   "cell_type": "code",
   "execution_count": 26,
   "metadata": {},
   "outputs": [
    {
     "data": {
      "text/plain": [
       "a    22\n",
       "b    44\n",
       "c    66\n",
       "d    88\n",
       "dtype: int64"
      ]
     },
     "execution_count": 26,
     "metadata": {},
     "output_type": "execute_result"
    }
   ],
   "source": [
    "# sorted by value\n",
    "y.sort_values(ascending=True)"
   ]
  },
  {
   "cell_type": "markdown",
   "metadata": {},
   "source": [
    "## Introspection\n",
    "Accessing some metadata about a Series"
   ]
  },
  {
   "cell_type": "code",
   "execution_count": 27,
   "metadata": {},
   "outputs": [
    {
     "data": {
      "text/plain": [
       "dtype('int64')"
      ]
     },
     "execution_count": 27,
     "metadata": {},
     "output_type": "execute_result"
    }
   ],
   "source": [
    "# the data type of the Series\n",
    "x = pd.Series([22, 44, 66, 88])\n",
    "x.dtype"
   ]
  },
  {
   "cell_type": "code",
   "execution_count": 28,
   "metadata": {},
   "outputs": [
    {
     "data": {
      "text/plain": [
       "(4,)"
      ]
     },
     "execution_count": 28,
     "metadata": {},
     "output_type": "execute_result"
    }
   ],
   "source": [
    "# the shape of the Series... in this case a one-dimensional array with 4 values\n",
    "y = pd.Series([22, 44, 66, 88], index=['a', 'b', 'c', 'd'])\n",
    "y.shape"
   ]
  },
  {
   "cell_type": "code",
   "execution_count": 29,
   "metadata": {},
   "outputs": [
    {
     "data": {
      "text/plain": [
       "'non-anonymous Series'"
      ]
     },
     "execution_count": 29,
     "metadata": {},
     "output_type": "execute_result"
    }
   ],
   "source": [
    "# get the name of a named series\n",
    "x = pd.Series([22, 44, 66, 88], name=\"non-anonymous Series\")\n",
    "x.name"
   ]
  },
  {
   "cell_type": "markdown",
   "metadata": {},
   "source": [
    "## Simple math operations"
   ]
  },
  {
   "cell_type": "code",
   "execution_count": 61,
   "metadata": {},
   "outputs": [
    {
     "data": {
      "text/plain": [
       "0    24\n",
       "1    46\n",
       "2    68\n",
       "3    90\n",
       "dtype: int64"
      ]
     },
     "execution_count": 61,
     "metadata": {},
     "output_type": "execute_result"
    }
   ],
   "source": [
    "# add a scalar to all values in a Series\n",
    "x = pd.Series([22, 44, 66, 88])\n",
    "y = x + 2\n",
    "y"
   ]
  },
  {
   "cell_type": "code",
   "execution_count": 31,
   "metadata": {},
   "outputs": [
    {
     "data": {
      "text/plain": [
       "0    20\n",
       "1    42\n",
       "2    64\n",
       "3    86\n",
       "dtype: int64"
      ]
     },
     "execution_count": 31,
     "metadata": {},
     "output_type": "execute_result"
    }
   ],
   "source": [
    "# subtract a scalar from all values in a Series\n",
    "x = pd.Series([22, 44, 66, 88])\n",
    "x - 2"
   ]
  },
  {
   "cell_type": "code",
   "execution_count": 32,
   "metadata": {},
   "outputs": [
    {
     "data": {
      "text/plain": [
       "0    2.0\n",
       "1    4.0\n",
       "2    6.0\n",
       "3    8.0\n",
       "dtype: float64"
      ]
     },
     "execution_count": 32,
     "metadata": {},
     "output_type": "execute_result"
    }
   ],
   "source": [
    "# divid all values in a Series by a scalar\n",
    "x = pd.Series([22, 44, 66, 88])\n",
    "x / 11"
   ]
  },
  {
   "cell_type": "markdown",
   "metadata": {},
   "source": [
    "... and so on"
   ]
  },
  {
   "cell_type": "code",
   "execution_count": 33,
   "metadata": {},
   "outputs": [
    {
     "data": {
      "text/plain": [
       "0    False\n",
       "1    False\n",
       "2     True\n",
       "3     True\n",
       "dtype: bool"
      ]
     },
     "execution_count": 33,
     "metadata": {},
     "output_type": "execute_result"
    }
   ],
   "source": [
    "x > 50"
   ]
  },
  {
   "cell_type": "code",
   "execution_count": 34,
   "metadata": {},
   "outputs": [
    {
     "data": {
      "text/plain": [
       "0     True\n",
       "1    False\n",
       "2     True\n",
       "3     True\n",
       "dtype: bool"
      ]
     },
     "execution_count": 34,
     "metadata": {},
     "output_type": "execute_result"
    }
   ],
   "source": [
    "x != 44"
   ]
  },
  {
   "cell_type": "code",
   "execution_count": 35,
   "metadata": {},
   "outputs": [
    {
     "data": {
      "text/plain": [
       "0     44\n",
       "1     88\n",
       "2    132\n",
       "3    176\n",
       "dtype: int64"
      ]
     },
     "execution_count": 35,
     "metadata": {},
     "output_type": "execute_result"
    }
   ],
   "source": [
    "# add two series together\n",
    "x = pd.Series([22, 44, 66, 88])\n",
    "x + x"
   ]
  },
  {
   "cell_type": "code",
   "execution_count": 36,
   "metadata": {},
   "outputs": [
    {
     "data": {
      "text/plain": [
       "a    25\n",
       "b    48\n",
       "c    68\n",
       "d    89\n",
       "dtype: int64"
      ]
     },
     "execution_count": 36,
     "metadata": {},
     "output_type": "execute_result"
    }
   ],
   "source": [
    "# add two series together\n",
    "x = pd.Series([22, 44, 66, 88], index=['a', 'b', 'c', 'd'])\n",
    "y = pd.Series([1, 2, 3, 4], index=['d', 'c', 'a', 'b'])\n",
    "x + y"
   ]
  },
  {
   "cell_type": "markdown",
   "metadata": {},
   "source": [
    "## Math operations and the alignment of labels\n",
    "Unlike `numpy` ndarrays, operations on Series automatically align by labels."
   ]
  },
  {
   "cell_type": "code",
   "execution_count": 37,
   "metadata": {},
   "outputs": [],
   "source": [
    "# for example, take two Series with the same set of labels, but in different orders\n",
    "a = pd.Series({'foo': 22, 'bar': 44, 'baz': 66, 'bum': 88})\n",
    "b = pd.Series({'bum': 1, 'baz': 2, 'bar': 3, 'foo': 4, })"
   ]
  },
  {
   "cell_type": "code",
   "execution_count": 38,
   "metadata": {},
   "outputs": [
    {
     "data": {
      "text/plain": [
       "bar    47\n",
       "baz    68\n",
       "bum    89\n",
       "foo    26\n",
       "dtype: int64"
      ]
     },
     "execution_count": 38,
     "metadata": {},
     "output_type": "execute_result"
    }
   ],
   "source": [
    "# math operations will be performed on values that share the same label\n",
    "a + b"
   ]
  },
  {
   "cell_type": "markdown",
   "metadata": {},
   "source": [
    "Besides this difference, all the basic math operations (+, -, *, /) between two Series work the same way as in `numpy` ndarrays."
   ]
  },
  {
   "cell_type": "markdown",
   "metadata": {},
   "source": [
    "## Heads and tails\n",
    "When dealing with large amounts of data, it's sometimes useful to see a sample of the data, without viewing the entire data set.  The `head()`, `tail()`, and `sample()` functions can help with this."
   ]
  },
  {
   "cell_type": "code",
   "execution_count": 62,
   "metadata": {},
   "outputs": [],
   "source": [
    "# first, let's generate a large Series\n",
    "\n",
    "import numpy as np # import numpy for convience generating a lot of sample data\n",
    "\n",
    "# make a really big Series from a random numpy ndarray\n",
    "x = pd.Series( np.random.random(5000) ) "
   ]
  },
  {
   "cell_type": "code",
   "execution_count": 40,
   "metadata": {},
   "outputs": [
    {
     "data": {
      "text/plain": [
       "0       0.053586\n",
       "1       0.623813\n",
       "2       0.085380\n",
       "3       0.818867\n",
       "4       0.093050\n",
       "          ...   \n",
       "4995    0.267786\n",
       "4996    0.938746\n",
       "4997    0.301619\n",
       "4998    0.193766\n",
       "4999    0.185180\n",
       "Length: 5000, dtype: float64"
      ]
     },
     "execution_count": 40,
     "metadata": {},
     "output_type": "execute_result"
    }
   ],
   "source": [
    "# get the default of what's in x\n",
    "x"
   ]
  },
  {
   "cell_type": "code",
   "execution_count": 64,
   "metadata": {},
   "outputs": [
    {
     "data": {
      "text/plain": [
       "0    0.071964\n",
       "1    0.684159\n",
       "2    0.678309\n",
       "3    0.638631\n",
       "4    0.551681\n",
       "dtype: float64"
      ]
     },
     "execution_count": 64,
     "metadata": {},
     "output_type": "execute_result"
    }
   ],
   "source": [
    "# get the head... the first few values\n",
    "x.head(5)"
   ]
  },
  {
   "cell_type": "code",
   "execution_count": 42,
   "metadata": {},
   "outputs": [
    {
     "data": {
      "text/plain": [
       "4995    0.267786\n",
       "4996    0.938746\n",
       "4997    0.301619\n",
       "4998    0.193766\n",
       "4999    0.185180\n",
       "dtype: float64"
      ]
     },
     "execution_count": 42,
     "metadata": {},
     "output_type": "execute_result"
    }
   ],
   "source": [
    "# get the tail... the last few values\n",
    "x.tail()"
   ]
  },
  {
   "cell_type": "code",
   "execution_count": 43,
   "metadata": {},
   "outputs": [
    {
     "data": {
      "text/plain": [
       "3319    0.337011\n",
       "1945    0.383846\n",
       "3598    0.724559\n",
       "1708    0.172642\n",
       "3350    0.913176\n",
       "dtype: float64"
      ]
     },
     "execution_count": 43,
     "metadata": {},
     "output_type": "execute_result"
    }
   ],
   "source": [
    "# get a sample of a few random values\n",
    "x.sample(5)"
   ]
  },
  {
   "cell_type": "markdown",
   "metadata": {},
   "source": [
    "## Basic statistics\n",
    "Basic statistical functions, like `mean()`, `median()`, `min()`, `max()`, and `std()` work just like their `numpy` equivalents."
   ]
  },
  {
   "cell_type": "code",
   "execution_count": 44,
   "metadata": {},
   "outputs": [
    {
     "data": {
      "text/plain": [
       "0    1.000000\n",
       "1    3.020408\n",
       "2    5.040816\n",
       "3    7.061224\n",
       "4    9.081633\n",
       "dtype: float64"
      ]
     },
     "execution_count": 44,
     "metadata": {},
     "output_type": "execute_result"
    }
   ],
   "source": [
    "# make a linearly-spaced series of 50 values from 1 to 100\n",
    "x = pd.Series( np.linspace(1, 100, 50) ) \n",
    "x.head()"
   ]
  },
  {
   "cell_type": "code",
   "execution_count": 45,
   "metadata": {},
   "outputs": [
    {
     "data": {
      "text/plain": [
       "count     50.000000\n",
       "mean      50.500000\n",
       "std       29.452257\n",
       "min        1.000000\n",
       "25%       25.750000\n",
       "50%       50.500000\n",
       "75%       75.250000\n",
       "max      100.000000\n",
       "dtype: float64"
      ]
     },
     "execution_count": 45,
     "metadata": {},
     "output_type": "execute_result"
    }
   ],
   "source": [
    "# get an overview of most common stats\n",
    "x.describe()"
   ]
  },
  {
   "cell_type": "code",
   "execution_count": 46,
   "metadata": {},
   "outputs": [
    {
     "data": {
      "text/plain": [
       "50.5"
      ]
     },
     "execution_count": 46,
     "metadata": {},
     "output_type": "execute_result"
    }
   ],
   "source": [
    "# calculate the mean value of the entire Series\n",
    "x.mean()"
   ]
  },
  {
   "cell_type": "code",
   "execution_count": 47,
   "metadata": {},
   "outputs": [
    {
     "data": {
      "text/plain": [
       "2.010204081632653"
      ]
     },
     "execution_count": 47,
     "metadata": {},
     "output_type": "execute_result"
    }
   ],
   "source": [
    "# calculate the mean value for only those values in the Series that are greater than 50\n",
    "x[ x < 5 ].mean()"
   ]
  },
  {
   "cell_type": "markdown",
   "metadata": {},
   "source": [
    "The other statistics functions - `min()`, `max()`, `median()`, `std()`, `count()` - work similarly."
   ]
  },
  {
   "cell_type": "code",
   "execution_count": 48,
   "metadata": {},
   "outputs": [
    {
     "data": {
      "text/plain": [
       "0       1.000000\n",
       "1       3.020408\n",
       "2       5.040816\n",
       "3       7.061224\n",
       "4       9.081633\n",
       "5      11.102041\n",
       "6      13.122449\n",
       "7      15.142857\n",
       "8      17.163265\n",
       "9      19.183673\n",
       "10     21.204082\n",
       "11     23.224490\n",
       "12     25.244898\n",
       "13     27.265306\n",
       "14     29.285714\n",
       "15     31.306122\n",
       "16     33.326531\n",
       "17     35.346939\n",
       "18     37.367347\n",
       "19     39.387755\n",
       "20     41.408163\n",
       "21     43.428571\n",
       "22     45.448980\n",
       "23     47.469388\n",
       "24     49.489796\n",
       "25     51.510204\n",
       "26     53.530612\n",
       "27     55.551020\n",
       "28     57.571429\n",
       "29     59.591837\n",
       "30     61.612245\n",
       "31     63.632653\n",
       "32     65.653061\n",
       "33     67.673469\n",
       "34     69.693878\n",
       "35     71.714286\n",
       "36     73.734694\n",
       "37     75.755102\n",
       "38     77.775510\n",
       "39     79.795918\n",
       "40     81.816327\n",
       "41     83.836735\n",
       "42     85.857143\n",
       "43     87.877551\n",
       "44     89.897959\n",
       "45     91.918367\n",
       "46     93.938776\n",
       "47     95.959184\n",
       "48     97.979592\n",
       "49    100.000000\n",
       "dtype: float64"
      ]
     },
     "execution_count": 48,
     "metadata": {},
     "output_type": "execute_result"
    }
   ],
   "source": [
    "x"
   ]
  },
  {
   "cell_type": "code",
   "execution_count": null,
   "metadata": {},
   "outputs": [],
   "source": []
  }
 ],
 "metadata": {
  "kernelspec": {
   "display_name": "Python 3",
   "language": "python",
   "name": "python3"
  },
  "language_info": {
   "codemirror_mode": {
    "name": "ipython",
    "version": 3
   },
   "file_extension": ".py",
   "mimetype": "text/x-python",
   "name": "python",
   "nbconvert_exporter": "python",
   "pygments_lexer": "ipython3",
   "version": "3.8.5"
  }
 },
 "nbformat": 4,
 "nbformat_minor": 4
}
